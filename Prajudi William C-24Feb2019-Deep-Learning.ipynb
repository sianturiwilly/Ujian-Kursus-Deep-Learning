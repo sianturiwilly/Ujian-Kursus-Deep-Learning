{
 "cells": [
  {
   "cell_type": "markdown",
   "metadata": {},
   "source": [
    "# Selamat datang dalam Ujian Deep Learning Image\n",
    "\n",
    "Tugas kalian adalah untuk melakukan analisis dasar untuk membangun Deep Learning di Image Proccessing. Adapun  data set yang digunakan adalah Fashion MNIST. \n",
    "\n",
    "\n",
    "Aturan ujian:\n",
    "1. **Boleh melihat catatan dan internet**\n",
    "2. **Penamaan file:**:\n",
    "     \n",
    "     - Nama File dirubah menjadi #Nama#Waktu#-Ujian-Deep-Learning.ipynb menjadi:\n",
    "         - Andreas-24Feb2019-Deep-Learning.ipynp\n",
    "         \n",
    "3. Ujian Dilakukan pada hari ini dan diselesaikan dalam waktu 1.5 jam\n",
    "\n",
    "Adapun komponen penilaian pada ujian ini adalah:\n",
    "\n",
    "\n",
    "1. **Data pre-processing**  \n",
    "     1.1. Memuat Data  \n",
    "     1.2. Memeriksa Bentuk dan Tipe Data  \n",
    "     1.3. Ekstraksi x_train dan y_train  \n",
    "     1.4. Visualisasi  \n",
    "     1.5. Normalisasi  \n",
    "     1.6. Menyesuaikan Shape dari Dataset  \n",
    "     1.7. One-Hot Encoding  \n",
    "     1.8. Memisahkan Data Training dan Data Validation      \n",
    "      \n",
    "2. **Convolutional Neural Network**  \n",
    "    \n",
    "\n",
    "3. **Analisis Hasil**  .Melakukan Visualisasi / Plotting Loss dan Accuracy  \n",
    "    "
   ]
  },
  {
   "cell_type": "markdown",
   "metadata": {},
   "source": [
    "<hr>\n",
    "\n",
    "# 1. Data Preprocessing\n",
    "\n",
    "-- silahkan tuliskan analisa kalian"
   ]
  },
  {
   "cell_type": "code",
   "execution_count": 56,
   "metadata": {},
   "outputs": [],
   "source": [
    "#meng-import library yang akan digunakan\n",
    "import numpy as np # linear algebra, matrix multiplications\n",
    "import pandas as pd # data processing, CSV file I/O"
   ]
  },
  {
   "cell_type": "markdown",
   "metadata": {},
   "source": [
    "## 1.1 Memuat Data\n",
    "-- silahkan tuliskan analisa kalian"
   ]
  },
  {
   "cell_type": "code",
   "execution_count": 57,
   "metadata": {},
   "outputs": [],
   "source": [
    "#meng-input & define pada gambar \n",
    "train = pd.read_csv(\"../input-ujian/fashion-mnist_train.csv\")\n",
    "test = pd.read_csv(\"../input-ujian/fashion-mnist_test.csv\")"
   ]
  },
  {
   "cell_type": "markdown",
   "metadata": {},
   "source": [
    "## 1.2 Memeriksa Bentuk dan Tipe Data\n",
    "-- silahkan tuliskan analisa kalian"
   ]
  },
  {
   "cell_type": "markdown",
   "metadata": {},
   "source": [
    "### Memeriksa Tipe Data"
   ]
  },
  {
   "cell_type": "code",
   "execution_count": 58,
   "metadata": {},
   "outputs": [
    {
     "name": "stdout",
     "output_type": "stream",
     "text": [
      "Tipe data variable training : <class 'pandas.core.frame.DataFrame'>\n",
      "Tipe data variable test  : <class 'pandas.core.frame.DataFrame'>\n"
     ]
    }
   ],
   "source": [
    "# memeriksa tipe data \n",
    "print('Tipe data variable training :', type(train))\n",
    "print('Tipe data variable test  :', type(test))"
   ]
  },
  {
   "cell_type": "markdown",
   "metadata": {},
   "source": [
    "### Memeriksa Bentuk Data"
   ]
  },
  {
   "cell_type": "code",
   "execution_count": 59,
   "metadata": {},
   "outputs": [
    {
     "name": "stdout",
     "output_type": "stream",
     "text": [
      "Shape dari variable training :  (60000, 785)\n",
      "Shape dari variable test  :  (10000, 785)\n",
      "\n",
      "Jumlah training data :  60000 pasang gambar dan class/label\n",
      "Jumlah test data     :  10000 gambar\n"
     ]
    }
   ],
   "source": [
    "# memeriksa bentuk data\n",
    "print('Shape dari variable training : ', train.shape)\n",
    "print('Shape dari variable test  : ', test.shape)\n",
    "\n",
    "# memeriksa jumlah data\n",
    "num_train = len(train.values) \n",
    "num_test = len(test.values) \n",
    "print('\\nJumlah training data : ', num_train, 'pasang gambar dan class/label')\n",
    "print('Jumlah test data     : ', num_test, 'gambar')"
   ]
  },
  {
   "cell_type": "markdown",
   "metadata": {},
   "source": [
    "### Memeriksa Isi Data"
   ]
  },
  {
   "cell_type": "code",
   "execution_count": 60,
   "metadata": {},
   "outputs": [
    {
     "data": {
      "text/html": [
       "<div>\n",
       "<style scoped>\n",
       "    .dataframe tbody tr th:only-of-type {\n",
       "        vertical-align: middle;\n",
       "    }\n",
       "\n",
       "    .dataframe tbody tr th {\n",
       "        vertical-align: top;\n",
       "    }\n",
       "\n",
       "    .dataframe thead th {\n",
       "        text-align: right;\n",
       "    }\n",
       "</style>\n",
       "<table border=\"1\" class=\"dataframe\">\n",
       "  <thead>\n",
       "    <tr style=\"text-align: right;\">\n",
       "      <th></th>\n",
       "      <th>label</th>\n",
       "      <th>pixel1</th>\n",
       "      <th>pixel2</th>\n",
       "      <th>pixel3</th>\n",
       "      <th>pixel4</th>\n",
       "      <th>pixel5</th>\n",
       "      <th>pixel6</th>\n",
       "      <th>pixel7</th>\n",
       "      <th>pixel8</th>\n",
       "      <th>pixel9</th>\n",
       "      <th>...</th>\n",
       "      <th>pixel775</th>\n",
       "      <th>pixel776</th>\n",
       "      <th>pixel777</th>\n",
       "      <th>pixel778</th>\n",
       "      <th>pixel779</th>\n",
       "      <th>pixel780</th>\n",
       "      <th>pixel781</th>\n",
       "      <th>pixel782</th>\n",
       "      <th>pixel783</th>\n",
       "      <th>pixel784</th>\n",
       "    </tr>\n",
       "  </thead>\n",
       "  <tbody>\n",
       "    <tr>\n",
       "      <th>0</th>\n",
       "      <td>2</td>\n",
       "      <td>0</td>\n",
       "      <td>0</td>\n",
       "      <td>0</td>\n",
       "      <td>0</td>\n",
       "      <td>0</td>\n",
       "      <td>0</td>\n",
       "      <td>0</td>\n",
       "      <td>0</td>\n",
       "      <td>0</td>\n",
       "      <td>...</td>\n",
       "      <td>0</td>\n",
       "      <td>0</td>\n",
       "      <td>0</td>\n",
       "      <td>0</td>\n",
       "      <td>0</td>\n",
       "      <td>0</td>\n",
       "      <td>0</td>\n",
       "      <td>0</td>\n",
       "      <td>0</td>\n",
       "      <td>0</td>\n",
       "    </tr>\n",
       "    <tr>\n",
       "      <th>1</th>\n",
       "      <td>9</td>\n",
       "      <td>0</td>\n",
       "      <td>0</td>\n",
       "      <td>0</td>\n",
       "      <td>0</td>\n",
       "      <td>0</td>\n",
       "      <td>0</td>\n",
       "      <td>0</td>\n",
       "      <td>0</td>\n",
       "      <td>0</td>\n",
       "      <td>...</td>\n",
       "      <td>0</td>\n",
       "      <td>0</td>\n",
       "      <td>0</td>\n",
       "      <td>0</td>\n",
       "      <td>0</td>\n",
       "      <td>0</td>\n",
       "      <td>0</td>\n",
       "      <td>0</td>\n",
       "      <td>0</td>\n",
       "      <td>0</td>\n",
       "    </tr>\n",
       "    <tr>\n",
       "      <th>2</th>\n",
       "      <td>6</td>\n",
       "      <td>0</td>\n",
       "      <td>0</td>\n",
       "      <td>0</td>\n",
       "      <td>0</td>\n",
       "      <td>0</td>\n",
       "      <td>0</td>\n",
       "      <td>0</td>\n",
       "      <td>5</td>\n",
       "      <td>0</td>\n",
       "      <td>...</td>\n",
       "      <td>0</td>\n",
       "      <td>0</td>\n",
       "      <td>0</td>\n",
       "      <td>30</td>\n",
       "      <td>43</td>\n",
       "      <td>0</td>\n",
       "      <td>0</td>\n",
       "      <td>0</td>\n",
       "      <td>0</td>\n",
       "      <td>0</td>\n",
       "    </tr>\n",
       "    <tr>\n",
       "      <th>3</th>\n",
       "      <td>0</td>\n",
       "      <td>0</td>\n",
       "      <td>0</td>\n",
       "      <td>0</td>\n",
       "      <td>1</td>\n",
       "      <td>2</td>\n",
       "      <td>0</td>\n",
       "      <td>0</td>\n",
       "      <td>0</td>\n",
       "      <td>0</td>\n",
       "      <td>...</td>\n",
       "      <td>3</td>\n",
       "      <td>0</td>\n",
       "      <td>0</td>\n",
       "      <td>0</td>\n",
       "      <td>0</td>\n",
       "      <td>1</td>\n",
       "      <td>0</td>\n",
       "      <td>0</td>\n",
       "      <td>0</td>\n",
       "      <td>0</td>\n",
       "    </tr>\n",
       "    <tr>\n",
       "      <th>4</th>\n",
       "      <td>3</td>\n",
       "      <td>0</td>\n",
       "      <td>0</td>\n",
       "      <td>0</td>\n",
       "      <td>0</td>\n",
       "      <td>0</td>\n",
       "      <td>0</td>\n",
       "      <td>0</td>\n",
       "      <td>0</td>\n",
       "      <td>0</td>\n",
       "      <td>...</td>\n",
       "      <td>0</td>\n",
       "      <td>0</td>\n",
       "      <td>0</td>\n",
       "      <td>0</td>\n",
       "      <td>0</td>\n",
       "      <td>0</td>\n",
       "      <td>0</td>\n",
       "      <td>0</td>\n",
       "      <td>0</td>\n",
       "      <td>0</td>\n",
       "    </tr>\n",
       "  </tbody>\n",
       "</table>\n",
       "<p>5 rows × 785 columns</p>\n",
       "</div>"
      ],
      "text/plain": [
       "   label  pixel1  pixel2  pixel3  pixel4  pixel5  pixel6  pixel7  pixel8  \\\n",
       "0      2       0       0       0       0       0       0       0       0   \n",
       "1      9       0       0       0       0       0       0       0       0   \n",
       "2      6       0       0       0       0       0       0       0       5   \n",
       "3      0       0       0       0       1       2       0       0       0   \n",
       "4      3       0       0       0       0       0       0       0       0   \n",
       "\n",
       "   pixel9  ...  pixel775  pixel776  pixel777  pixel778  pixel779  pixel780  \\\n",
       "0       0  ...         0         0         0         0         0         0   \n",
       "1       0  ...         0         0         0         0         0         0   \n",
       "2       0  ...         0         0         0        30        43         0   \n",
       "3       0  ...         3         0         0         0         0         1   \n",
       "4       0  ...         0         0         0         0         0         0   \n",
       "\n",
       "   pixel781  pixel782  pixel783  pixel784  \n",
       "0         0         0         0         0  \n",
       "1         0         0         0         0  \n",
       "2         0         0         0         0  \n",
       "3         0         0         0         0  \n",
       "4         0         0         0         0  \n",
       "\n",
       "[5 rows x 785 columns]"
      ]
     },
     "execution_count": 60,
     "metadata": {},
     "output_type": "execute_result"
    }
   ],
   "source": [
    "# memeriksa data 5 pertama training\n",
    "train.head(5)\n"
   ]
  },
  {
   "cell_type": "code",
   "execution_count": 61,
   "metadata": {},
   "outputs": [
    {
     "data": {
      "text/html": [
       "<div>\n",
       "<style scoped>\n",
       "    .dataframe tbody tr th:only-of-type {\n",
       "        vertical-align: middle;\n",
       "    }\n",
       "\n",
       "    .dataframe tbody tr th {\n",
       "        vertical-align: top;\n",
       "    }\n",
       "\n",
       "    .dataframe thead th {\n",
       "        text-align: right;\n",
       "    }\n",
       "</style>\n",
       "<table border=\"1\" class=\"dataframe\">\n",
       "  <thead>\n",
       "    <tr style=\"text-align: right;\">\n",
       "      <th></th>\n",
       "      <th>label</th>\n",
       "      <th>pixel1</th>\n",
       "      <th>pixel2</th>\n",
       "      <th>pixel3</th>\n",
       "      <th>pixel4</th>\n",
       "      <th>pixel5</th>\n",
       "      <th>pixel6</th>\n",
       "      <th>pixel7</th>\n",
       "      <th>pixel8</th>\n",
       "      <th>pixel9</th>\n",
       "      <th>...</th>\n",
       "      <th>pixel775</th>\n",
       "      <th>pixel776</th>\n",
       "      <th>pixel777</th>\n",
       "      <th>pixel778</th>\n",
       "      <th>pixel779</th>\n",
       "      <th>pixel780</th>\n",
       "      <th>pixel781</th>\n",
       "      <th>pixel782</th>\n",
       "      <th>pixel783</th>\n",
       "      <th>pixel784</th>\n",
       "    </tr>\n",
       "  </thead>\n",
       "  <tbody>\n",
       "    <tr>\n",
       "      <th>0</th>\n",
       "      <td>0</td>\n",
       "      <td>0</td>\n",
       "      <td>0</td>\n",
       "      <td>0</td>\n",
       "      <td>0</td>\n",
       "      <td>0</td>\n",
       "      <td>0</td>\n",
       "      <td>0</td>\n",
       "      <td>9</td>\n",
       "      <td>8</td>\n",
       "      <td>...</td>\n",
       "      <td>103</td>\n",
       "      <td>87</td>\n",
       "      <td>56</td>\n",
       "      <td>0</td>\n",
       "      <td>0</td>\n",
       "      <td>0</td>\n",
       "      <td>0</td>\n",
       "      <td>0</td>\n",
       "      <td>0</td>\n",
       "      <td>0</td>\n",
       "    </tr>\n",
       "    <tr>\n",
       "      <th>1</th>\n",
       "      <td>1</td>\n",
       "      <td>0</td>\n",
       "      <td>0</td>\n",
       "      <td>0</td>\n",
       "      <td>0</td>\n",
       "      <td>0</td>\n",
       "      <td>0</td>\n",
       "      <td>0</td>\n",
       "      <td>0</td>\n",
       "      <td>0</td>\n",
       "      <td>...</td>\n",
       "      <td>34</td>\n",
       "      <td>0</td>\n",
       "      <td>0</td>\n",
       "      <td>0</td>\n",
       "      <td>0</td>\n",
       "      <td>0</td>\n",
       "      <td>0</td>\n",
       "      <td>0</td>\n",
       "      <td>0</td>\n",
       "      <td>0</td>\n",
       "    </tr>\n",
       "    <tr>\n",
       "      <th>2</th>\n",
       "      <td>2</td>\n",
       "      <td>0</td>\n",
       "      <td>0</td>\n",
       "      <td>0</td>\n",
       "      <td>0</td>\n",
       "      <td>0</td>\n",
       "      <td>0</td>\n",
       "      <td>14</td>\n",
       "      <td>53</td>\n",
       "      <td>99</td>\n",
       "      <td>...</td>\n",
       "      <td>0</td>\n",
       "      <td>0</td>\n",
       "      <td>0</td>\n",
       "      <td>0</td>\n",
       "      <td>63</td>\n",
       "      <td>53</td>\n",
       "      <td>31</td>\n",
       "      <td>0</td>\n",
       "      <td>0</td>\n",
       "      <td>0</td>\n",
       "    </tr>\n",
       "    <tr>\n",
       "      <th>3</th>\n",
       "      <td>2</td>\n",
       "      <td>0</td>\n",
       "      <td>0</td>\n",
       "      <td>0</td>\n",
       "      <td>0</td>\n",
       "      <td>0</td>\n",
       "      <td>0</td>\n",
       "      <td>0</td>\n",
       "      <td>0</td>\n",
       "      <td>0</td>\n",
       "      <td>...</td>\n",
       "      <td>137</td>\n",
       "      <td>126</td>\n",
       "      <td>140</td>\n",
       "      <td>0</td>\n",
       "      <td>133</td>\n",
       "      <td>224</td>\n",
       "      <td>222</td>\n",
       "      <td>56</td>\n",
       "      <td>0</td>\n",
       "      <td>0</td>\n",
       "    </tr>\n",
       "    <tr>\n",
       "      <th>4</th>\n",
       "      <td>3</td>\n",
       "      <td>0</td>\n",
       "      <td>0</td>\n",
       "      <td>0</td>\n",
       "      <td>0</td>\n",
       "      <td>0</td>\n",
       "      <td>0</td>\n",
       "      <td>0</td>\n",
       "      <td>0</td>\n",
       "      <td>0</td>\n",
       "      <td>...</td>\n",
       "      <td>0</td>\n",
       "      <td>0</td>\n",
       "      <td>0</td>\n",
       "      <td>0</td>\n",
       "      <td>0</td>\n",
       "      <td>0</td>\n",
       "      <td>0</td>\n",
       "      <td>0</td>\n",
       "      <td>0</td>\n",
       "      <td>0</td>\n",
       "    </tr>\n",
       "  </tbody>\n",
       "</table>\n",
       "<p>5 rows × 785 columns</p>\n",
       "</div>"
      ],
      "text/plain": [
       "   label  pixel1  pixel2  pixel3  pixel4  pixel5  pixel6  pixel7  pixel8  \\\n",
       "0      0       0       0       0       0       0       0       0       9   \n",
       "1      1       0       0       0       0       0       0       0       0   \n",
       "2      2       0       0       0       0       0       0      14      53   \n",
       "3      2       0       0       0       0       0       0       0       0   \n",
       "4      3       0       0       0       0       0       0       0       0   \n",
       "\n",
       "   pixel9  ...  pixel775  pixel776  pixel777  pixel778  pixel779  pixel780  \\\n",
       "0       8  ...       103        87        56         0         0         0   \n",
       "1       0  ...        34         0         0         0         0         0   \n",
       "2      99  ...         0         0         0         0        63        53   \n",
       "3       0  ...       137       126       140         0       133       224   \n",
       "4       0  ...         0         0         0         0         0         0   \n",
       "\n",
       "   pixel781  pixel782  pixel783  pixel784  \n",
       "0         0         0         0         0  \n",
       "1         0         0         0         0  \n",
       "2        31         0         0         0  \n",
       "3       222        56         0         0  \n",
       "4         0         0         0         0  \n",
       "\n",
       "[5 rows x 785 columns]"
      ]
     },
     "execution_count": 61,
     "metadata": {},
     "output_type": "execute_result"
    }
   ],
   "source": [
    "# memeriksa data 5 pertama test\n",
    "test.head(5)"
   ]
  },
  {
   "cell_type": "code",
   "execution_count": 62,
   "metadata": {},
   "outputs": [
    {
     "name": "stdout",
     "output_type": "stream",
     "text": [
      "[  2   0   0   0   0   0   0   0   0   0   0   0   0   0   0   0   0   0\n",
      "   0   0   0   0   0   0   0   0   0   0   0   0   0   0   0   0   0   0\n",
      "   0   0   0   0   0   0   0   0   0   0   0   0   0   0   0   0   0   0\n",
      "   0   0   0   0   0   0   0   0   0   0   0   0   0   0   0   0   0   0\n",
      "   0   0   0   0   0   0   0   0   0   0   0   0   0   0   0   0   0   4\n",
      "   0   0   0   0   0  62  61  21  29  23  51 136  61   0   0   0   0   0\n",
      "   0   0   0   0   0   0   0   0   0   0   0   0  88 201 228 225 255 115\n",
      "  62 137 255 235 222 255 135   0   0   0   0   0   0   0   0   0   0   0\n",
      "   0   0  47 252 234 238 224 215 215 229 108 180 207 214 224 231 249 254\n",
      "  45   0   0   0   0   0   0   0   0   1   0   0 214 222 210 213 224 225\n",
      " 217 220 254 233 219 221 217 223 221 240 254   0   0   1   0   0   0   1\n",
      "   0   0   0 128 237 207 224 224 207 216 214 210 208 211 221 208 219 213\n",
      " 226 211 237 150   0   0   0   0   0   0   2   0   0 237 222 215 207 210\n",
      " 212 213 206 214 213 214 213 210 215 214 206 199 218 255  13   0   2   0\n",
      "   0   0   4   0  85 228 210 218 200 211 208 203 215 210 209 209 210 213\n",
      " 211 210 217 206 213 231 175   0   0   0   0   0   0   0 217 224 215 206\n",
      " 205 204 217 230 222 215 224 233 228 232 228 224 207 212 215 213 229  31\n",
      "   0   4   0   1   0  21 225 212 212 203 211 225 193 139 136 195 147 156\n",
      " 139 128 162 197 223 207 220 213 232 177   0   0   0   0   0 123 226 207\n",
      " 211 209 205 228 158  90 103 186 138 100 121 147 158 183 226 208 214 209\n",
      " 216 255  13   0   1   0   0 226 219 202 208 206 205 216 184 156 150 193\n",
      " 170 164 168 188 186 200 219 216 213 213 211 233 148   0   0   0  45 227\n",
      " 204 214 211 218 222 221 230 229 221 213 224 233 226 220 219 221 224 223\n",
      " 217 210 218 213 254   0   0   0 157 226 203 207 211 209 215 205 198 207\n",
      " 208 201 201 197 203 205 210 207 213 214 214 214 213 208 234 107   0   0\n",
      " 235 213 204 211 210 209 213 202 197 204 215 217 213 212 210 206 212 203\n",
      " 211 218 215 214 208 209 222 230   0  52 255 207 200 208 213 210 210 208\n",
      " 207 202 201 209 216 216 216 216 214 212 205 215 201 228 208 214 212 218\n",
      "  25 118 217 201 206 208 213 208 205 206 210 211 202 199 207 208 209 210\n",
      " 207 210 210 245 139 119 255 202 203 236 114 171 238 212 203 220 216 217\n",
      " 209 207 205 210 211 206 204 206 209 211 215 210 206 221 242   0 224 234\n",
      " 230 181  26  39 145 201 255 157 115 250 200 207 206 207 213 216 206 205\n",
      " 206 207 206 215 207 221 238   0   0 188  85   0   0   0   0   0  31   0\n",
      " 129 253 190 207 208 208 208 209 211 211 209 209 209 212 201 226 165   0\n",
      "   0   0   0   0   0   2   0   0   0   0  89 254 199 199 192 196 198 199\n",
      " 201 202 203 204 203 203 200 222 155   0   3   3   3   2   0   0   0   1\n",
      "   5   0   0 255 218 226 232 228 224 222 220 219 219 217 221 220 212 236\n",
      "  95   0   2   0   0   0   0   0   0   0   0   0   0 155 194 168 170 171\n",
      " 173 173 179 177 175 172 171 167 161 180   0   0   1   0   1   0   0   0\n",
      "   0   0   0   0   0   0   0   0   0   0   0   0   0   0   0   0   0   0\n",
      "   0   0   0   0   0   0   0   0   0   0   0   0   0   0   0   0   0   0\n",
      "   0   0   0   0   0   0   0   0   0   0   0   0   0   0   0   0   0   0\n",
      "   0   0   0   0   0   0   0   0   0   0   0   0   0   0   0   0   0   0\n",
      "   0   0   0   0   0   0   0   0   0   0   0]\n"
     ]
    }
   ],
   "source": [
    "#mengambil isi 1 buah data gambar training\n",
    "label_and_image = train.values[0]\n",
    "print(label_and_image)"
   ]
  },
  {
   "cell_type": "code",
   "execution_count": 63,
   "metadata": {},
   "outputs": [
    {
     "name": "stdout",
     "output_type": "stream",
     "text": [
      "[  0   0   0   0   0   0   0   0   9   8   0   0  34  29   7   0  11  24\n",
      "   0   0   3   3   1   0   1   1   0   0   0   0   0   4   0   0   1   0\n",
      "   0   0   0   0  44  88  99 122 123  80   0   0   0   0   1   1   1   0\n",
      "   0   0   0   0   0   1   2   0   0   0   3  46 174 249  67   0  94 210\n",
      "  61  14 212 157  37   0   0   0   0   1   0   0   0   0   0   2   2   0\n",
      "  23 168 206 242 239 238 214 125  61 113  74 133 236 238 236 203 184  20\n",
      "   0   1   0   0   0   0   0   1   0   0 175 245 223 207 205 206 216 255\n",
      " 237 251 232 223 212 200 205 216 249 173   0   0   2   0   0   0   0   7\n",
      "   0  53 225 201 197 200 201 206 199 197 185 194 204 232 226 249 219 194\n",
      " 205 229  33   0   1   0   0   0   0   1   0 133 223 208 192 195 233 226\n",
      " 216 191 210 188 236 186   0  50 234 207 208 231 133   0   0   0   0   0\n",
      "   0   0   0 216 218 216 194 229 172  64 219 201 200 200 247  68  72  54\n",
      " 165 237 212 219 226   0   0   0   0   0   0   0  50 221 207 220 211 207\n",
      " 165 138 205 192 191 190 232 119 113  67 173 237 217 208 221  29   0   0\n",
      "   0   0   0   0 131 216 200 219 207 212 231 226 193 214 224 206 203 230\n",
      " 122 112 234 224 214 204 224 123   0   0   0   0   0   0 195 212 204 211\n",
      " 203 205 200 184 213 162 138 193 207 203 231 245 208 220 211 203 219 179\n",
      "   0   0   0   0   0   8 185 191 218 233 219 201 221 213 246 114 127  80\n",
      " 129 232 198 218 207 236 227 220 216 172  21   0   0   0   0  21   4   5\n",
      "  64 160 224 224 144 187 197 211 207 186 192 210 212 218 225 236 177 106\n",
      "  56  28   1   0   0   0   0   1   1   0   2   0 116 252  96 120  51  73\n",
      "  70 123  79  76  64 162 252 118   1   3   0   4   2   0   0   0   0   0\n",
      "   0   0   0   0 115 226 145 170 155 165 161 159 125 175 140 174 236  95\n",
      "   0   2   2   0   0   0   0   0   0   0   0   1   2   0 131 225 204 217\n",
      " 221 220 217 224 231 226 237 203 237 102   0   4   2   1   2   0   0   0\n",
      "   0   1   1   0   3   0 135 223 201 199 194 198 195 198 192 203 199 207\n",
      " 231 112   0   4   0   0   0   0   0   0   0   1   1   0   1   0 134 223\n",
      " 199 206 199 201 200 203 206 207 210 206 227 119   0   3   0   0   1   0\n",
      "   0   0   0   0   0   0   1   0 139 223 198 204 200 201 200 201 204 206\n",
      " 208 206 229 128   0   4   0   0   0   0   0   0   0   0   0   0   1   0\n",
      " 145 223 195 205 201 201 200 204 204 206 211 205 230 139   0   2   0   0\n",
      "   0   0   0   0   0   1   0   1   0   0 157 221 194 204 204 201 201 203\n",
      " 205 208 211 204 230 148   0   2   0   1   1   0   0   0   0   1   1   1\n",
      "   0   0 166 220 194 203 203 205 203 203 206 207 212 204 230 157   0   2\n",
      "   1   1   1   0   0   0   0   0   0   0   0   0 171 221 195 206 200 199\n",
      " 203 203 205 206 207 204 226 181   0   0   0   0   0   0   0   0   0   0\n",
      "   0   1   0   0 165 224 197 201 208 199 204 205 207 210 213 207 229 187\n",
      "   0   1   2   0   0   0   0   0   0   0   0   0   0   0 128 201 203 201\n",
      " 207 211 203 205 206 210 213 205 225 191   0   0   2   0   0   0   0   0\n",
      "   0   0   0   1   1   0 141 201 191 188 194 187 187 191 193 195 199 199\n",
      " 218 161   0   0   0   0   0   0   0   0   0   0   0   0   1   0 212 240\n",
      " 213 239 233 239 231 232 236 242 245 224 245 234   0   3   0   0   0   0\n",
      "   0   0   0   0   0   0   0   0  37  69  94 123 127 138 138 142 145 135\n",
      " 125 103  87  56   0   0   0   0   0   0   0]\n"
     ]
    }
   ],
   "source": [
    "#mengambil isi 1 buah data gambar test\n",
    "label_and_image = test.values[0]\n",
    "print(label_and_image)"
   ]
  },
  {
   "cell_type": "markdown",
   "metadata": {},
   "source": [
    "## 1.3 Ekstraksi x_train dan y_train\n",
    "-- silahkan tuliskan analisa kalian"
   ]
  },
  {
   "cell_type": "code",
   "execution_count": 64,
   "metadata": {},
   "outputs": [
    {
     "name": "stdout",
     "output_type": "stream",
     "text": [
      "Shape dari variable xtrain_raw:  (60000, 784)\n",
      "Shape dari variable ytrain_raw:  (60000,)\n",
      "Shape dari variable xtest_raw:  (10000, 784)\n"
     ]
    }
   ],
   "source": [
    "#untuk xtrain, hilangkan kolom yang bernama label\n",
    "xtrain_raw = train.drop(\"label\", axis=1)\n",
    "print(\"Shape dari variable xtrain_raw: \", xtrain_raw.shape)\n",
    "\n",
    "#untuk ytrain, ambil kolom yang memiliki heading label\n",
    "ytrain_raw = train[\"label\"]\n",
    "print(\"Shape dari variable ytrain_raw: \", ytrain_raw.shape)\n",
    "\n",
    "#untuk xtest, hilangkan kolom yang bernama label\n",
    "xtest_raw = test.drop(\"label\", axis=1)\n",
    "print(\"Shape dari variable xtest_raw: \", xtest_raw.shape)"
   ]
  },
  {
   "cell_type": "code",
   "execution_count": 65,
   "metadata": {},
   "outputs": [
    {
     "name": "stdout",
     "output_type": "stream",
     "text": [
      "Gambarnya berdimensi: 28x28.\n"
     ]
    }
   ],
   "source": [
    "#mari kita telaah informasi dimensi dari gambar kita\n",
    "from math import sqrt\n",
    "\n",
    "#ambil jumlah kolom dari x_train raw (yang merepresentasikan jumlah pixel)\n",
    "jumlah_pixel = xtrain_raw.shape[1]\n",
    "\n",
    "#akar kuadratkan jumlah pixel kita = jumlah pixel setiap sisi (dimensi)\n",
    "dim = int(sqrt(jumlah_pixel))\n",
    "\n",
    "#cetak\n",
    "print(\"Gambarnya berdimensi: {}x{}.\".format(dim, dim))"
   ]
  },
  {
   "cell_type": "code",
   "execution_count": 66,
   "metadata": {},
   "outputs": [
    {
     "data": {
      "text/html": [
       "<div>\n",
       "<style scoped>\n",
       "    .dataframe tbody tr th:only-of-type {\n",
       "        vertical-align: middle;\n",
       "    }\n",
       "\n",
       "    .dataframe tbody tr th {\n",
       "        vertical-align: top;\n",
       "    }\n",
       "\n",
       "    .dataframe thead th {\n",
       "        text-align: right;\n",
       "    }\n",
       "</style>\n",
       "<table border=\"1\" class=\"dataframe\">\n",
       "  <thead>\n",
       "    <tr style=\"text-align: right;\">\n",
       "      <th></th>\n",
       "      <th>pixel1</th>\n",
       "      <th>pixel2</th>\n",
       "      <th>pixel3</th>\n",
       "      <th>pixel4</th>\n",
       "      <th>pixel5</th>\n",
       "      <th>pixel6</th>\n",
       "      <th>pixel7</th>\n",
       "      <th>pixel8</th>\n",
       "      <th>pixel9</th>\n",
       "      <th>pixel10</th>\n",
       "      <th>...</th>\n",
       "      <th>pixel775</th>\n",
       "      <th>pixel776</th>\n",
       "      <th>pixel777</th>\n",
       "      <th>pixel778</th>\n",
       "      <th>pixel779</th>\n",
       "      <th>pixel780</th>\n",
       "      <th>pixel781</th>\n",
       "      <th>pixel782</th>\n",
       "      <th>pixel783</th>\n",
       "      <th>pixel784</th>\n",
       "    </tr>\n",
       "  </thead>\n",
       "  <tbody>\n",
       "    <tr>\n",
       "      <th>0</th>\n",
       "      <td>0</td>\n",
       "      <td>0</td>\n",
       "      <td>0</td>\n",
       "      <td>0</td>\n",
       "      <td>0</td>\n",
       "      <td>0</td>\n",
       "      <td>0</td>\n",
       "      <td>0</td>\n",
       "      <td>0</td>\n",
       "      <td>0</td>\n",
       "      <td>...</td>\n",
       "      <td>0</td>\n",
       "      <td>0</td>\n",
       "      <td>0</td>\n",
       "      <td>0</td>\n",
       "      <td>0</td>\n",
       "      <td>0</td>\n",
       "      <td>0</td>\n",
       "      <td>0</td>\n",
       "      <td>0</td>\n",
       "      <td>0</td>\n",
       "    </tr>\n",
       "    <tr>\n",
       "      <th>1</th>\n",
       "      <td>0</td>\n",
       "      <td>0</td>\n",
       "      <td>0</td>\n",
       "      <td>0</td>\n",
       "      <td>0</td>\n",
       "      <td>0</td>\n",
       "      <td>0</td>\n",
       "      <td>0</td>\n",
       "      <td>0</td>\n",
       "      <td>0</td>\n",
       "      <td>...</td>\n",
       "      <td>0</td>\n",
       "      <td>0</td>\n",
       "      <td>0</td>\n",
       "      <td>0</td>\n",
       "      <td>0</td>\n",
       "      <td>0</td>\n",
       "      <td>0</td>\n",
       "      <td>0</td>\n",
       "      <td>0</td>\n",
       "      <td>0</td>\n",
       "    </tr>\n",
       "    <tr>\n",
       "      <th>2</th>\n",
       "      <td>0</td>\n",
       "      <td>0</td>\n",
       "      <td>0</td>\n",
       "      <td>0</td>\n",
       "      <td>0</td>\n",
       "      <td>0</td>\n",
       "      <td>0</td>\n",
       "      <td>5</td>\n",
       "      <td>0</td>\n",
       "      <td>0</td>\n",
       "      <td>...</td>\n",
       "      <td>0</td>\n",
       "      <td>0</td>\n",
       "      <td>0</td>\n",
       "      <td>30</td>\n",
       "      <td>43</td>\n",
       "      <td>0</td>\n",
       "      <td>0</td>\n",
       "      <td>0</td>\n",
       "      <td>0</td>\n",
       "      <td>0</td>\n",
       "    </tr>\n",
       "    <tr>\n",
       "      <th>3</th>\n",
       "      <td>0</td>\n",
       "      <td>0</td>\n",
       "      <td>0</td>\n",
       "      <td>1</td>\n",
       "      <td>2</td>\n",
       "      <td>0</td>\n",
       "      <td>0</td>\n",
       "      <td>0</td>\n",
       "      <td>0</td>\n",
       "      <td>0</td>\n",
       "      <td>...</td>\n",
       "      <td>3</td>\n",
       "      <td>0</td>\n",
       "      <td>0</td>\n",
       "      <td>0</td>\n",
       "      <td>0</td>\n",
       "      <td>1</td>\n",
       "      <td>0</td>\n",
       "      <td>0</td>\n",
       "      <td>0</td>\n",
       "      <td>0</td>\n",
       "    </tr>\n",
       "    <tr>\n",
       "      <th>4</th>\n",
       "      <td>0</td>\n",
       "      <td>0</td>\n",
       "      <td>0</td>\n",
       "      <td>0</td>\n",
       "      <td>0</td>\n",
       "      <td>0</td>\n",
       "      <td>0</td>\n",
       "      <td>0</td>\n",
       "      <td>0</td>\n",
       "      <td>0</td>\n",
       "      <td>...</td>\n",
       "      <td>0</td>\n",
       "      <td>0</td>\n",
       "      <td>0</td>\n",
       "      <td>0</td>\n",
       "      <td>0</td>\n",
       "      <td>0</td>\n",
       "      <td>0</td>\n",
       "      <td>0</td>\n",
       "      <td>0</td>\n",
       "      <td>0</td>\n",
       "    </tr>\n",
       "  </tbody>\n",
       "</table>\n",
       "<p>5 rows × 784 columns</p>\n",
       "</div>"
      ],
      "text/plain": [
       "   pixel1  pixel2  pixel3  pixel4  pixel5  pixel6  pixel7  pixel8  pixel9  \\\n",
       "0       0       0       0       0       0       0       0       0       0   \n",
       "1       0       0       0       0       0       0       0       0       0   \n",
       "2       0       0       0       0       0       0       0       5       0   \n",
       "3       0       0       0       1       2       0       0       0       0   \n",
       "4       0       0       0       0       0       0       0       0       0   \n",
       "\n",
       "   pixel10  ...  pixel775  pixel776  pixel777  pixel778  pixel779  pixel780  \\\n",
       "0        0  ...         0         0         0         0         0         0   \n",
       "1        0  ...         0         0         0         0         0         0   \n",
       "2        0  ...         0         0         0        30        43         0   \n",
       "3        0  ...         3         0         0         0         0         1   \n",
       "4        0  ...         0         0         0         0         0         0   \n",
       "\n",
       "   pixel781  pixel782  pixel783  pixel784  \n",
       "0         0         0         0         0  \n",
       "1         0         0         0         0  \n",
       "2         0         0         0         0  \n",
       "3         0         0         0         0  \n",
       "4         0         0         0         0  \n",
       "\n",
       "[5 rows x 784 columns]"
      ]
     },
     "execution_count": 66,
     "metadata": {},
     "output_type": "execute_result"
    }
   ],
   "source": [
    "#kita lihat 5 data pertama dari xtrain kita\n",
    "xtrain_raw.head(5)"
   ]
  },
  {
   "cell_type": "code",
   "execution_count": 67,
   "metadata": {},
   "outputs": [
    {
     "data": {
      "text/plain": [
       "0    2\n",
       "1    9\n",
       "2    6\n",
       "3    0\n",
       "4    3\n",
       "Name: label, dtype: int64"
      ]
     },
     "execution_count": 67,
     "metadata": {},
     "output_type": "execute_result"
    }
   ],
   "source": [
    "#kita lihat 5 data pertama dari ytrain kita\n",
    "ytrain_raw.head(5)"
   ]
  },
  {
   "cell_type": "markdown",
   "metadata": {},
   "source": [
    "## 1.4 Visualisasi\n",
    "-- silahkan tuliskan analisa kalian."
   ]
  },
  {
   "cell_type": "markdown",
   "metadata": {},
   "source": [
    "### Visualisasi Satu Gambar"
   ]
  },
  {
   "cell_type": "code",
   "execution_count": 91,
   "metadata": {},
   "outputs": [],
   "source": [
    "from math import sqrt"
   ]
  },
  {
   "cell_type": "code",
   "execution_count": 90,
   "metadata": {},
   "outputs": [],
   "source": [
    "import matplotlib.pyplot as pl\n",
    "import matplotlib.image as plimg"
   ]
  },
  {
   "cell_type": "code",
   "execution_count": 68,
   "metadata": {
    "scrolled": true
   },
   "outputs": [
    {
     "data": {
      "image/png": "[encoded data removed]",
      "text/plain": [
       "<Figure size 432x288 with 1 Axes>"
      ]
     },
     "metadata": {
      "needs_background": "light"
     },
     "output_type": "display_data"
    }
   ],
   "source": [
    "# membutuhkan beberapa class dari library matplotlib dengan tujuan melakukan visualisasi\n",
    "import matplotlib.pyplot as plt\n",
    "import matplotlib.image as mpimg\n",
    "\n",
    "# mengizinkan matplotlib menggambar pada jupyter notebook\n",
    "%matplotlib inline\n",
    "\n",
    "# mengkonversi train dataset menjadi berformat (num_images, img_rows, img_cols) agar kita bisa plot mereka\n",
    "xtrain_vis = xtrain_raw.values.reshape(num_train, dim, dim)\n",
    "\n",
    "#tunjukkan gambar menggunakan pyplot\n",
    "plt.imshow(xtrain_vis[5])                             #pilih data yang ingin di visualisasikan\n",
    "plt.title(\"Angka {}\".format(ytrain_raw[i]))           #tulis judul gambarnya\n",
    "plt.show()                                            #tampilkan"
   ]
  },
  {
   "cell_type": "code",
   "execution_count": 69,
   "metadata": {},
   "outputs": [
    {
     "data": {
      "image/png": "[encoded data removed]",
      "text/plain": [
       "<Figure size 432x288 with 9 Axes>"
      ]
     },
     "metadata": {
      "needs_background": "light"
     },
     "output_type": "display_data"
    }
   ],
   "source": [
    "# berikut merupakan snippet program untuk melakukan visualisasi gambar dengan subplot\n",
    "\n",
    "# plot 9 gambar pertama dalam xtrain_vis kita\n",
    "for i in range(0,9):\n",
    "    plt.subplot(3, 3, i+1)\n",
    "    plt.imshow(xtrain_vis[i])\n",
    "    plt.title(\"Angka {}\".format(ytrain_raw[i]));\n",
    "\n",
    "#supaya tampilannya enggak dempet2\n",
    "plt.tight_layout()"
   ]
  },
  {
   "cell_type": "code",
   "execution_count": 70,
   "metadata": {},
   "outputs": [
    {
     "data": {
      "image/png": "[encoded data removed]",
      "text/plain": [
       "<Figure size 432x288 with 5 Axes>"
      ]
     },
     "metadata": {
      "needs_background": "light"
     },
     "output_type": "display_data"
    }
   ],
   "source": [
    "# plot 5 gambar pertama\n",
    "for i in range(0,5):\n",
    "    plt.subplot(1, 5, i+1)\n",
    "    plt.imshow(xtrain_vis[i])\n",
    "    plt.title(\"Angka {}\".format(ytrain_raw[i]));\n",
    "\n",
    "#supaya tampilannya enggak dempet2\n",
    "plt.tight_layout()"
   ]
  },
  {
   "cell_type": "markdown",
   "metadata": {},
   "source": [
    "## 1.5 Normalisasi\n",
    "-- silahkan tuliskan analisa kalian"
   ]
  },
  {
   "cell_type": "code",
   "execution_count": 75,
   "metadata": {},
   "outputs": [
    {
     "data": {
      "text/html": [
       "<div>\n",
       "<style scoped>\n",
       "    .dataframe tbody tr th:only-of-type {\n",
       "        vertical-align: middle;\n",
       "    }\n",
       "\n",
       "    .dataframe tbody tr th {\n",
       "        vertical-align: top;\n",
       "    }\n",
       "\n",
       "    .dataframe thead th {\n",
       "        text-align: right;\n",
       "    }\n",
       "</style>\n",
       "<table border=\"1\" class=\"dataframe\">\n",
       "  <thead>\n",
       "    <tr style=\"text-align: right;\">\n",
       "      <th></th>\n",
       "      <th>pixel1</th>\n",
       "      <th>pixel2</th>\n",
       "      <th>pixel3</th>\n",
       "      <th>pixel4</th>\n",
       "      <th>pixel5</th>\n",
       "      <th>pixel6</th>\n",
       "      <th>pixel7</th>\n",
       "      <th>pixel8</th>\n",
       "      <th>pixel9</th>\n",
       "      <th>pixel10</th>\n",
       "      <th>...</th>\n",
       "      <th>pixel775</th>\n",
       "      <th>pixel776</th>\n",
       "      <th>pixel777</th>\n",
       "      <th>pixel778</th>\n",
       "      <th>pixel779</th>\n",
       "      <th>pixel780</th>\n",
       "      <th>pixel781</th>\n",
       "      <th>pixel782</th>\n",
       "      <th>pixel783</th>\n",
       "      <th>pixel784</th>\n",
       "    </tr>\n",
       "  </thead>\n",
       "  <tbody>\n",
       "    <tr>\n",
       "      <th>0</th>\n",
       "      <td>0.0</td>\n",
       "      <td>0.0</td>\n",
       "      <td>0.0</td>\n",
       "      <td>0.000000</td>\n",
       "      <td>0.000000</td>\n",
       "      <td>0.0</td>\n",
       "      <td>0.0</td>\n",
       "      <td>0.000000</td>\n",
       "      <td>0.0</td>\n",
       "      <td>0.0</td>\n",
       "      <td>...</td>\n",
       "      <td>0.000000</td>\n",
       "      <td>0.0</td>\n",
       "      <td>0.0</td>\n",
       "      <td>0.000000</td>\n",
       "      <td>0.000000</td>\n",
       "      <td>0.000000</td>\n",
       "      <td>0.0</td>\n",
       "      <td>0.0</td>\n",
       "      <td>0.0</td>\n",
       "      <td>0.0</td>\n",
       "    </tr>\n",
       "    <tr>\n",
       "      <th>1</th>\n",
       "      <td>0.0</td>\n",
       "      <td>0.0</td>\n",
       "      <td>0.0</td>\n",
       "      <td>0.000000</td>\n",
       "      <td>0.000000</td>\n",
       "      <td>0.0</td>\n",
       "      <td>0.0</td>\n",
       "      <td>0.000000</td>\n",
       "      <td>0.0</td>\n",
       "      <td>0.0</td>\n",
       "      <td>...</td>\n",
       "      <td>0.000000</td>\n",
       "      <td>0.0</td>\n",
       "      <td>0.0</td>\n",
       "      <td>0.000000</td>\n",
       "      <td>0.000000</td>\n",
       "      <td>0.000000</td>\n",
       "      <td>0.0</td>\n",
       "      <td>0.0</td>\n",
       "      <td>0.0</td>\n",
       "      <td>0.0</td>\n",
       "    </tr>\n",
       "    <tr>\n",
       "      <th>2</th>\n",
       "      <td>0.0</td>\n",
       "      <td>0.0</td>\n",
       "      <td>0.0</td>\n",
       "      <td>0.000000</td>\n",
       "      <td>0.000000</td>\n",
       "      <td>0.0</td>\n",
       "      <td>0.0</td>\n",
       "      <td>0.019608</td>\n",
       "      <td>0.0</td>\n",
       "      <td>0.0</td>\n",
       "      <td>...</td>\n",
       "      <td>0.000000</td>\n",
       "      <td>0.0</td>\n",
       "      <td>0.0</td>\n",
       "      <td>0.117647</td>\n",
       "      <td>0.168627</td>\n",
       "      <td>0.000000</td>\n",
       "      <td>0.0</td>\n",
       "      <td>0.0</td>\n",
       "      <td>0.0</td>\n",
       "      <td>0.0</td>\n",
       "    </tr>\n",
       "    <tr>\n",
       "      <th>3</th>\n",
       "      <td>0.0</td>\n",
       "      <td>0.0</td>\n",
       "      <td>0.0</td>\n",
       "      <td>0.003922</td>\n",
       "      <td>0.007843</td>\n",
       "      <td>0.0</td>\n",
       "      <td>0.0</td>\n",
       "      <td>0.000000</td>\n",
       "      <td>0.0</td>\n",
       "      <td>0.0</td>\n",
       "      <td>...</td>\n",
       "      <td>0.011765</td>\n",
       "      <td>0.0</td>\n",
       "      <td>0.0</td>\n",
       "      <td>0.000000</td>\n",
       "      <td>0.000000</td>\n",
       "      <td>0.003922</td>\n",
       "      <td>0.0</td>\n",
       "      <td>0.0</td>\n",
       "      <td>0.0</td>\n",
       "      <td>0.0</td>\n",
       "    </tr>\n",
       "    <tr>\n",
       "      <th>4</th>\n",
       "      <td>0.0</td>\n",
       "      <td>0.0</td>\n",
       "      <td>0.0</td>\n",
       "      <td>0.000000</td>\n",
       "      <td>0.000000</td>\n",
       "      <td>0.0</td>\n",
       "      <td>0.0</td>\n",
       "      <td>0.000000</td>\n",
       "      <td>0.0</td>\n",
       "      <td>0.0</td>\n",
       "      <td>...</td>\n",
       "      <td>0.000000</td>\n",
       "      <td>0.0</td>\n",
       "      <td>0.0</td>\n",
       "      <td>0.000000</td>\n",
       "      <td>0.000000</td>\n",
       "      <td>0.000000</td>\n",
       "      <td>0.0</td>\n",
       "      <td>0.0</td>\n",
       "      <td>0.0</td>\n",
       "      <td>0.0</td>\n",
       "    </tr>\n",
       "  </tbody>\n",
       "</table>\n",
       "<p>5 rows × 784 columns</p>\n",
       "</div>"
      ],
      "text/plain": [
       "   pixel1  pixel2  pixel3    pixel4    pixel5  pixel6  pixel7    pixel8  \\\n",
       "0     0.0     0.0     0.0  0.000000  0.000000     0.0     0.0  0.000000   \n",
       "1     0.0     0.0     0.0  0.000000  0.000000     0.0     0.0  0.000000   \n",
       "2     0.0     0.0     0.0  0.000000  0.000000     0.0     0.0  0.019608   \n",
       "3     0.0     0.0     0.0  0.003922  0.007843     0.0     0.0  0.000000   \n",
       "4     0.0     0.0     0.0  0.000000  0.000000     0.0     0.0  0.000000   \n",
       "\n",
       "   pixel9  pixel10  ...  pixel775  pixel776  pixel777  pixel778  pixel779  \\\n",
       "0     0.0      0.0  ...  0.000000       0.0       0.0  0.000000  0.000000   \n",
       "1     0.0      0.0  ...  0.000000       0.0       0.0  0.000000  0.000000   \n",
       "2     0.0      0.0  ...  0.000000       0.0       0.0  0.117647  0.168627   \n",
       "3     0.0      0.0  ...  0.011765       0.0       0.0  0.000000  0.000000   \n",
       "4     0.0      0.0  ...  0.000000       0.0       0.0  0.000000  0.000000   \n",
       "\n",
       "   pixel780  pixel781  pixel782  pixel783  pixel784  \n",
       "0  0.000000       0.0       0.0       0.0       0.0  \n",
       "1  0.000000       0.0       0.0       0.0       0.0  \n",
       "2  0.000000       0.0       0.0       0.0       0.0  \n",
       "3  0.003922       0.0       0.0       0.0       0.0  \n",
       "4  0.000000       0.0       0.0       0.0       0.0  \n",
       "\n",
       "[5 rows x 784 columns]"
      ]
     },
     "execution_count": 75,
     "metadata": {},
     "output_type": "execute_result"
    }
   ],
   "source": [
    "# normalisasikan data\n",
    "xtrain_normalized = xtrain_raw / 255.0\n",
    "xtest_normalized = xtest_raw / 255.0\n",
    "\n",
    "xtrain_normalized.head(5)"
   ]
  },
  {
   "cell_type": "markdown",
   "metadata": {},
   "source": [
    "## 1.6 Menyesuaikan Shape dari Dataset\n",
    "-- silahkan tuliskan analisa kalian"
   ]
  },
  {
   "cell_type": "code",
   "execution_count": 77,
   "metadata": {},
   "outputs": [
    {
     "name": "stdout",
     "output_type": "stream",
     "text": [
      "Shape xtrain sebelum, pixel berbentuk vektor 1D: (60000, 784)\n",
      "Shape xtrain sesudah, pixel berbentuk 28x28x1 3D matrix: (60000, 28, 28, 1)\n",
      "\n",
      "Shape test sebelum, pixel berbentuk vektor 1D: (10000, 785)\n",
      "Shape test sesudah, pixel berbentuk 28x28x1 3D matrix: (10000, 785)\n"
     ]
    }
   ],
   "source": [
    "#reshape variable kita menjadi (jumlah_data, dimensi-x, dimensi-y, 1)\n",
    "#ingat, kita sudah menyimpan jumlah data didalam variable ntrain dan ntest\n",
    "xtrain = xtrain_normalized.values.reshape(num_train, dim, dim, 1)\n",
    "xtest = xtest_normalized.values.reshape(num_test, dim, dim, 1)\n",
    "\n",
    "#cetak beberapa informasi yang kita butuhkan\n",
    "print(\"Shape xtrain sebelum, pixel berbentuk vektor 1D:\", xtrain_normalized.shape)\n",
    "print(\"Shape xtrain sesudah, pixel berbentuk 28x28x1 3D matrix:\", xtrain.shape)\n",
    "\n",
    "print(\"\\nShape test sebelum, pixel berbentuk vektor 1D:\", test_normalized.shape)\n",
    "print(\"Shape test sesudah, pixel berbentuk 28x28x1 3D matrix:\", test.shape)"
   ]
  },
  {
   "cell_type": "markdown",
   "metadata": {},
   "source": [
    "## 1.7 One-Hot Encoding\n",
    "-- silahkan tuliskan analisa kalian"
   ]
  },
  {
   "cell_type": "code",
   "execution_count": 78,
   "metadata": {},
   "outputs": [
    {
     "name": "stderr",
     "output_type": "stream",
     "text": [
      "Using TensorFlow backend.\n"
     ]
    }
   ],
   "source": [
    "# class to_categorical kita butuhkan dari library keras\n",
    "from keras.utils.np_utils import to_categorical"
   ]
  },
  {
   "cell_type": "code",
   "execution_count": 79,
   "metadata": {},
   "outputs": [
    {
     "name": "stdout",
     "output_type": "stream",
     "text": [
      "Tipe data ytrain sebelum :  <class 'pandas.core.series.Series'>\n",
      "Shape ytrain sebelum     :  (60000,)\n",
      "\n",
      "Tipe data ytrain sesudah :  <class 'numpy.ndarray'>\n",
      "Shape ytrain sesudah     :  (60000, 10)\n"
     ]
    }
   ],
   "source": [
    "#nclasses = ytrain_raw.max() - ytrain_raw.min() + 1\n",
    "nclasses = 10\n",
    "\n",
    "#cetak bentuk ytrain sebelum\n",
    "print(\"Tipe data ytrain sebelum : \", type(ytrain_raw))\n",
    "print(\"Shape ytrain sebelum     : \", ytrain_raw.shape)\n",
    "\n",
    "#melakukan one-hot encoding\n",
    "ytrain = to_categorical(ytrain_raw, num_classes = nclasses)\n",
    "\n",
    "#cetak bentuk ytrain sesudah\n",
    "print(\"\\nTipe data ytrain sesudah : \", type(ytrain))\n",
    "print(\"Shape ytrain sesudah     : \", ytrain.shape)"
   ]
  },
  {
   "cell_type": "code",
   "execution_count": 80,
   "metadata": {},
   "outputs": [
    {
     "name": "stdout",
     "output_type": "stream",
     "text": [
      "Label encoding:\n",
      "[2 9 6 ... 8 8 7]\n",
      "\n",
      "One-hot encoding:\n",
      "[[0. 0. 1. ... 0. 0. 0.]\n",
      " [0. 0. 0. ... 0. 0. 1.]\n",
      " [0. 0. 0. ... 0. 0. 0.]\n",
      " ...\n",
      " [0. 0. 0. ... 0. 1. 0.]\n",
      " [0. 0. 0. ... 0. 1. 0.]\n",
      " [0. 0. 0. ... 1. 0. 0.]]\n"
     ]
    }
   ],
   "source": [
    "#mencetak isinya, sebelum dan sesudah\n",
    "print('Label encoding:')\n",
    "print(ytrain_raw.values)\n",
    "\n",
    "print('\\nOne-hot encoding:')\n",
    "print(ytrain)"
   ]
  },
  {
   "cell_type": "markdown",
   "metadata": {},
   "source": [
    "## 1.8 Memisahkan Data Training dan Data Validation\n",
    "-- silahkan tuliskan analisa kalian"
   ]
  },
  {
   "cell_type": "code",
   "execution_count": 81,
   "metadata": {},
   "outputs": [
    {
     "name": "stdout",
     "output_type": "stream",
     "text": [
      "Bentuk xtrain sekarang :  (54000, 28, 28, 1)\n",
      "Bentuk ytrain sekarang :  (54000, 10)\n",
      "\n",
      "Bentuk xval sekarang   :  (6000, 28, 28, 1)\n",
      "Bentuk yval sekarang   :  (6000, 10)\n"
     ]
    }
   ],
   "source": [
    "# menggunakan class train_test_split untuk melakukan pembagian secara otomatis\n",
    "from sklearn.model_selection import train_test_split\n",
    "\n",
    "# membuat class untuk melakukan random\n",
    "seed = 2\n",
    "np.random.seed(seed)\n",
    "\n",
    "# kita pisahkan sebagian xtrain dan ytrain untuk xval dan yval\n",
    "xtrain, xval, ytrain, yval = train_test_split(xtrain, ytrain,      #input xtrain dan ytrain kita\n",
    "                                              test_size=0.1,       #presentase porsi untuk xval dan yval\n",
    "                                              random_state=seed,   #gunakan class random kita agar train_test_split dapat secara random melakukan pemisahan xval dan yval\n",
    "                                              shuffle=True,        #shuffle data sebelum melakukan pemisahan\n",
    "                                             )\n",
    "\n",
    "print('Bentuk xtrain sekarang : ', xtrain.shape)\n",
    "print('Bentuk ytrain sekarang : ', ytrain.shape)\n",
    "print('\\nBentuk xval sekarang   : ', xval.shape)\n",
    "print('Bentuk yval sekarang   : ', yval.shape)"
   ]
  },
  {
   "cell_type": "markdown",
   "metadata": {},
   "source": [
    "<hr>\n",
    "\n",
    "# 2. Convolutional Neural Network\n",
    "\n",
    "Pada bagian ini Convolutional Neural Network akan dibangun; termasuk membangun arsitekturnya, menentukan optimizer, pengukuran kinerja, learning rate, dll."
   ]
  },
  {
   "cell_type": "code",
   "execution_count": 82,
   "metadata": {},
   "outputs": [],
   "source": [
    "from keras import backend as K\n",
    "\n",
    "# for the architecture\n",
    "from keras.models import Sequential\n",
    "from keras.layers import Dense, Dropout, Lambda, Flatten, BatchNormalization\n",
    "from keras.layers import Conv2D, MaxPool2D, AvgPool2D\n",
    "\n",
    "# optimizer, data generator and learning rate reductor\n",
    "from keras.optimizers import Adam\n",
    "from keras.preprocessing.image import ImageDataGenerator\n",
    "from keras.callbacks import ReduceLROnPlateau"
   ]
  },
  {
   "cell_type": "code",
   "execution_count": 85,
   "metadata": {},
   "outputs": [],
   "source": [
    "model = Sequential()\n",
    "\n",
    "model.add(Conv2D(filters=32, kernel_size=(5,5), padding='same', activation='relu', input_shape=(dim,dim,1)))\n",
    "model.add(MaxPool2D(pool_size=(2,2), strides=(2,2)))\n",
    "model.add(Dropout(0.2))\n",
    "\n",
    "model.add(Conv2D(filters=64, kernel_size=(5,5), padding='same', activation='relu'))\n",
    "model.add(MaxPool2D(pool_size=(2,2), strides=(2,2)))\n",
    "model.add(Dropout(0.2))\n",
    "\n",
    "model.add(Flatten())\n",
    "model.add(Dense(120, activation='relu'))\n",
    "model.add(Dense(84, activation='relu'))     \n",
    "model.add(Dense(nclasses, activation='softmax'))"
   ]
  },
  {
   "cell_type": "code",
   "execution_count": 87,
   "metadata": {},
   "outputs": [],
   "source": [
    "model.compile(optimizer=\"adam\",                 \n",
    "              loss=\"categorical_crossentropy\", \n",
    "              metrics=[\"accuracy\"])   "
   ]
  },
  {
   "cell_type": "code",
   "execution_count": 88,
   "metadata": {},
   "outputs": [
    {
     "name": "stdout",
     "output_type": "stream",
     "text": [
      "Train on 54000 samples, validate on 6000 samples\n",
      "Epoch 1/5\n",
      "54000/54000 [==============================] - 115s 2ms/step - loss: 0.7686 - acc: 0.7165 - val_loss: 0.4877 - val_acc: 0.8222\n",
      "Epoch 2/5\n",
      "54000/54000 [==============================] - 120s 2ms/step - loss: 0.4455 - acc: 0.8383 - val_loss: 0.3742 - val_acc: 0.8715\n",
      "Epoch 3/5\n",
      "54000/54000 [==============================] - 119s 2ms/step - loss: 0.3749 - acc: 0.8664 - val_loss: 0.3440 - val_acc: 0.8750\n",
      "Epoch 4/5\n",
      "54000/54000 [==============================] - 117s 2ms/step - loss: 0.3441 - acc: 0.8774 - val_loss: 0.3230 - val_acc: 0.8867\n",
      "Epoch 5/5\n",
      "54000/54000 [==============================] - 120s 2ms/step - loss: 0.3136 - acc: 0.8869 - val_loss: 0.3037 - val_acc: 0.8918\n"
     ]
    }
   ],
   "source": [
    "history = model.fit(\n",
    "    xtrain, ytrain, \n",
    "    batch_size=512,\n",
    "    epochs=5,\n",
    "    verbose=1,\n",
    "    validation_data=(xval, yval),\n",
    ")"
   ]
  },
  {
   "cell_type": "markdown",
   "metadata": {},
   "source": [
    "<hr>\n",
    "\n",
    "# 3. Analisis Hasil\n",
    "##  Melakukan Visualisasi / Plotting Loss dan Accuracy\n",
    "\n",
    "-- silahkan tuliskan analisa kalian"
   ]
  },
  {
   "cell_type": "code",
   "execution_count": 93,
   "metadata": {},
   "outputs": [
    {
     "data": {
      "image/png": "[encoded data removed]",
      "text/plain": [
       "<Figure size 432x288 with 2 Axes>"
      ]
     },
     "metadata": {
      "needs_background": "light"
     },
     "output_type": "display_data"
    }
   ],
   "source": [
    "#plot perbandingan training loss dan validation loss\n",
    "fig, ax = pl.subplots(2,1)\n",
    "ax[0].plot(history.history['loss'], color='b', label=\"Training loss\")\n",
    "ax[0].plot(history.history['val_loss'], color='r', label=\"Validation loss\",axes =ax[0])\n",
    "ax[0].grid(color='black', linestyle='-', linewidth=0.25)\n",
    "legend = ax[0].legend(loc='best', shadow=True)\n",
    "\n",
    "#plot perbandingan training acc dan validation acc\n",
    "ax[1].plot(history.history['acc'], color='b', label=\"Training accuracy\")\n",
    "ax[1].plot(history.history['val_acc'], color='r',label=\"Validation accuracy\")\n",
    "ax[1].grid(color='black', linestyle='-', linewidth=0.25)\n",
    "legend = ax[1].legend(loc='best', shadow=True)"
   ]
  },
  {
   "cell_type": "markdown",
   "metadata": {},
   "source": [
    "# Kesan dan Pesan untuk Kursus ini"
   ]
  },
  {
   "cell_type": "markdown",
   "metadata": {},
   "source": [
    "silahkan tuliskan kesan dan pesan kalian"
   ]
  },
  {
   "cell_type": "code",
   "execution_count": null,
   "metadata": {},
   "outputs": [],
   "source": [
    "Untuk kesannya, ilmunya berguna dari masing-masing tutor. Kesannya fasilitas internet di lab terkadang bermasalah."
   ]
  }
 ],
 "metadata": {
  "anaconda-cloud": {},
  "kernelspec": {
   "display_name": "Python 3",
   "language": "python",
   "name": "python3"
  },
  "language_info": {
   "codemirror_mode": {
    "name": "ipython",
    "version": 3
   },
   "file_extension": ".py",
   "mimetype": "text/x-python",
   "name": "python",
   "nbconvert_exporter": "python",
   "pygments_lexer": "ipython3",
   "version": "3.4.6"
  }
 },
 "nbformat": 4,
 "nbformat_minor": 2
}
